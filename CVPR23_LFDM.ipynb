{
  "cells": [
    {
      "cell_type": "markdown",
      "metadata": {
        "id": "8epOw5M2hpYd"
      },
      "source": [
        "Mount the disc"
      ]
    },
    {
      "cell_type": "code",
      "execution_count": null,
      "metadata": {
        "id": "Q6bibiUFrl28"
      },
      "outputs": [],
      "source": [
        "from google.colab import drive\n",
        "drive.mount('/content/drive')"
      ]
    },
    {
      "cell_type": "markdown",
      "metadata": {
        "id": "AcyKgk4wWHks"
      },
      "source": [
        "Clone the repository and change the directory"
      ]
    },
    {
      "cell_type": "code",
      "execution_count": null,
      "metadata": {
        "id": "QCZp2yncVwet"
      },
      "outputs": [],
      "source": [
        "!git clone https://github.com/nihaomiao/CVPR23_LFDM"
      ]
    },
    {
      "cell_type": "code",
      "execution_count": null,
      "metadata": {
        "id": "vKXW6KlJtyP-"
      },
      "outputs": [],
      "source": [
        "%cd CVPR23_LFDM"
      ]
    },
    {
      "cell_type": "markdown",
      "metadata": {
        "id": "TbLIwi6chyoG"
      },
      "source": [
        "Install the requirements"
      ]
    },
    {
      "cell_type": "code",
      "execution_count": null,
      "metadata": {
        "id": "hdo84Wc-PozP"
      },
      "outputs": [],
      "source": [
        "!pip install -r requirements_colab.txt"
      ]
    },
    {
      "cell_type": "markdown",
      "metadata": {
        "id": "tPlDHshAh3GJ"
      },
      "source": [
        "On the example of demo_mug.py\n",
        "\n",
        "Download  [pre-trained LFAE and DM models for MUG](https://git.miem.hse.ru/tvromanova/cvpr23-lfdm-for-img2vid/-/tree/5e6a58e576d0d1243bac7e77aa802c77980a6852#pretrained-models)\n",
        "\n",
        "Save them to your google disc (they are pretty heavy, so this way you won't need to download them every time)\n",
        "In file /content/cvpr23-lfdm-for-img2vid/demo/demo_mug.py change the path to file in lines 32 and 34\n",
        "\n",
        "In line 113 change path to the input image\n",
        "\n",
        "For mhad and natops datasets repeat the algorithm"
      ]
    },
    {
      "cell_type": "markdown",
      "metadata": {
        "id": "VBWASXGxWlgV"
      },
      "source": [
        "Run demo_mug.py"
      ]
    },
    {
      "cell_type": "code",
      "execution_count": null,
      "metadata": {
        "id": "l3DZB01gW0IN"
      },
      "outputs": [],
      "source": [
        "!python -u demo/demo_mug.py"
      ]
    },
    {
      "cell_type": "markdown",
      "metadata": {
        "id": "koRNvh7NWs-_"
      },
      "source": [
        "Run demo_mhad.py"
      ]
    },
    {
      "cell_type": "code",
      "execution_count": null,
      "metadata": {
        "id": "0PLSvR4X8coH"
      },
      "outputs": [],
      "source": [
        "!python -u demo/demo_mhad.py"
      ]
    },
    {
      "cell_type": "markdown",
      "metadata": {
        "id": "Rw-QeEP7Wwm6"
      },
      "source": [
        "Run demo_natops.py"
      ]
    },
    {
      "cell_type": "code",
      "execution_count": null,
      "metadata": {
        "id": "JVcxLFTZHdZV"
      },
      "outputs": [],
      "source": [
        "!python -u demo/demo_natops.py"
      ]
    }
  ],
  "metadata": {
    "accelerator": "GPU",
    "colab": {
      "provenance": []
    },
    "kernelspec": {
      "display_name": "Python 3",
      "name": "python3"
    },
    "language_info": {
      "name": "python"
    }
  },
  "nbformat": 4,
  "nbformat_minor": 0
}